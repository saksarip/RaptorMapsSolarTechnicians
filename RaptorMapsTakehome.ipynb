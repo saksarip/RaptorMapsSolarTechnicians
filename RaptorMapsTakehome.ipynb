{
 "cells": [
  {
   "cell_type": "markdown",
   "metadata": {},
   "source": [
    "# Solar Technician Movement Analysis"
   ]
  },
  {
   "cell_type": "markdown",
   "metadata": {},
   "source": [
    "Installing haversine library for calculating distances between WG2 84 lat,long points\n",
    "Matplotlib for visualizing movement"
   ]
  },
  {
   "cell_type": "code",
   "execution_count": 55,
   "metadata": {},
   "outputs": [
    {
     "name": "stdout",
     "output_type": "stream",
     "text": [
      "Collecting haversine\n",
      "  Using cached haversine-2.3.0-py2.py3-none-any.whl (5.5 kB)\n",
      "Installing collected packages: haversine\n",
      "Successfully installed haversine-2.3.0\n",
      "Requirement already satisfied: matplotlib in /Applications/miniconda3/lib/python3.8/site-packages (3.3.4)\n",
      "Requirement already satisfied: python-dateutil>=2.1 in /Applications/miniconda3/lib/python3.8/site-packages (from matplotlib) (2.8.1)\n",
      "Requirement already satisfied: kiwisolver>=1.0.1 in /Applications/miniconda3/lib/python3.8/site-packages (from matplotlib) (1.3.1)\n",
      "Requirement already satisfied: numpy>=1.15 in /Applications/miniconda3/lib/python3.8/site-packages (from matplotlib) (1.20.1)\n",
      "Requirement already satisfied: pyparsing!=2.0.4,!=2.1.2,!=2.1.6,>=2.0.3 in /Applications/miniconda3/lib/python3.8/site-packages (from matplotlib) (2.4.7)\n",
      "Requirement already satisfied: cycler>=0.10 in /Applications/miniconda3/lib/python3.8/site-packages (from matplotlib) (0.10.0)\n",
      "Requirement already satisfied: pillow>=6.2.0 in /Applications/miniconda3/lib/python3.8/site-packages (from matplotlib) (8.1.2)\n",
      "Requirement already satisfied: six>=1.5 in /Applications/miniconda3/lib/python3.8/site-packages (from python-dateutil>=2.1->matplotlib) (1.15.0)\n"
     ]
    }
   ],
   "source": [
    "!pip install haversine\n",
    "!pip install matplotlib"
   ]
  },
  {
   "cell_type": "markdown",
   "metadata": {},
   "source": [
    "Importing necessary libraries"
   ]
  },
  {
   "cell_type": "code",
   "execution_count": 56,
   "metadata": {},
   "outputs": [],
   "source": [
    "import pandas as pd\n",
    "import numpy as np\n",
    "from haversine import haversine\n",
    "from haversine import Unit\n",
    "import json"
   ]
  },
  {
   "cell_type": "markdown",
   "metadata": {},
   "source": [
    "Data loaded into dictionary format"
   ]
  },
  {
   "cell_type": "code",
   "execution_count": 57,
   "metadata": {},
   "outputs": [],
   "source": [
    "with open('api_techician_response_data.json') as f:\n",
    "  data = json.load(f) "
   ]
  },
  {
   "cell_type": "markdown",
   "metadata": {},
   "source": [
    "The distances between the techs are loaded into a dataframe. I included separate columns for each pair of solar technicians. As a result this method of processing the data would have to change if there are more than 3 technicians. If the number of technicians is dynamic, a non-tabular format would work better. "
   ]
  },
  {
   "cell_type": "code",
   "execution_count": 40,
   "metadata": {},
   "outputs": [],
   "source": [
    "tech_distance_data = pd.DataFrame(columns=['tsecs', 'tminutes', \n",
    "                                           'DistanceBetweenTech1_2(Ft)', 'DistanceBetweenTech1_3(Ft)', \n",
    "                                           'DistanceBetweenTech2_3(Ft)', 'IsTech1_2Close', \n",
    "                                           'IsTech1_3Close', 'IsTech2_3Close'])"
   ]
  },
  {
   "cell_type": "markdown",
   "metadata": {},
   "source": [
    "The data is parsed and processed. Using the haversine function the distances are calculated and converted to Feet, and formatted in a dictionary that can be added to the DataFrame. "
   ]
  },
  {
   "cell_type": "code",
   "execution_count": 58,
   "metadata": {},
   "outputs": [],
   "source": [
    "def construct_row(minute_data):\n",
    "    tech_data = minute_data['features']\n",
    "    tsecs = tech_data[0]['properties']['tsecs']\n",
    "    \n",
    "    tech_three_loc = tech_data[0]['geometry']['coordinates']\n",
    "    \n",
    "    tech_one_loc = tech_data[1]['geometry']['coordinates']\n",
    "    \n",
    "    tech_two_loc = tech_data[2]['geometry']['coordinates']\n",
    "    \n",
    "    #Haversine distance used radius of the earth to calculate distance betweeen points on a sphere\n",
    "    #Assumes earth is perfectly spherical, and that the radius is constant throughout the earth\n",
    "    #This assumption isn't perfectly true, ellipsoidal calculation would improve accuracy, but for\n",
    "    #these small distances the difference is negligible. \n",
    "    \n",
    "    one_two_distance = haversine(tech_two_loc, tech_one_loc, unit=Unit.FEET)\n",
    "    one_three_distance = haversine(tech_three_loc, tech_one_loc, unit=Unit.FEET)\n",
    "    two_three_distance = haversine(tech_three_loc, tech_two_loc, unit=Unit.FEET)\n",
    "    \n",
    "    is_one_two_close = int(one_two_distance <= 1000)\n",
    "    is_one_three_close = int(one_three_distance <= 1000)\n",
    "    is_two_three_close = int(two_three_distance <= 1000)\n",
    "    \n",
    "    row = {\n",
    "        'tsecs': tsecs,  \n",
    "        'tminutes': tsecs / 60, \n",
    "        'DistanceBetweenTech1_2(Ft)': one_two_distance, \n",
    "        'DistanceBetweenTech1_3(Ft)': one_three_distance, \n",
    "        'DistanceBetweenTech2_3(Ft)': two_three_distance, \n",
    "        'IsTech1_2Close': is_one_two_close,  \n",
    "        'IsTech1_3Close': is_one_three_close, \n",
    "        'IsTech2_3Close': is_two_three_close\n",
    "    }\n",
    "    \n",
    "    return row"
   ]
  },
  {
   "cell_type": "markdown",
   "metadata": {},
   "source": [
    "Appending each row to the distance dataframe"
   ]
  },
  {
   "cell_type": "code",
   "execution_count": 59,
   "metadata": {},
   "outputs": [],
   "source": [
    "for minute_data in data:\n",
    "    tech_distance_data = tech_distance_data.append(construct_row(minute_data), ignore_index=True)"
   ]
  },
  {
   "cell_type": "markdown",
   "metadata": {},
   "source": [
    "This dataframe is just for visualization and for estimating future locations of technicians, this is why just the lat,lon, and bearing are loaded into the dataframe"
   ]
  },
  {
   "cell_type": "code",
   "execution_count": 60,
   "metadata": {},
   "outputs": [],
   "source": [
    "tech_location_data = pd.DataFrame(columns=['relminute', \n",
    "                                           'Tech_One_Lat', 'Tech_One_Lon', 'Tech_One_Bearing', \n",
    "                                           'Tech_Two_Lat', 'Tech_Two_Lon', 'Tech_Two_Bearing', \n",
    "                                           'Tech_Three_Lat', 'Tech_Three_Lon', 'Tech_Three_Bearing'])"
   ]
  },
  {
   "cell_type": "markdown",
   "metadata": {},
   "source": [
    "Loading the location data along with the minute, relative to the start of the data. This could be a dynamic input if the function has to be used elsewhere"
   ]
  },
  {
   "cell_type": "code",
   "execution_count": 61,
   "metadata": {},
   "outputs": [],
   "source": [
    "def construct_location_row(minute_data):\n",
    "    tech_data = minute_data['features']\n",
    "    tsecs = tech_data[0]['properties']['tsecs']\n",
    "    tminute = tech_data[0]['properties']['tsecs'] / 60\n",
    "    relminute = tminute % 26534640.0\n",
    "    \n",
    "    tech_three_bearing = tech_data[0]['properties']['bearing']\n",
    "    tech_three_loc = tech_data[0]['geometry']['coordinates']\n",
    "    \n",
    "    tech_three_lat = tech_three_loc[0]\n",
    "    tech_three_lon = tech_three_loc[1]\n",
    "    \n",
    "    tech_one_bearing = tech_data[1]['properties']['bearing']\n",
    "    tech_one_loc = tech_data[1]['geometry']['coordinates']\n",
    "    \n",
    "    tech_one_lat = tech_one_loc[0]\n",
    "    tech_one_lon = tech_one_loc[1]\n",
    "    \n",
    "    tech_two_bearing = tech_data[2]['properties']['bearing']\n",
    "    tech_two_loc = tech_data[2]['geometry']['coordinates']\n",
    "    \n",
    "    tech_two_lat = tech_two_loc[0]\n",
    "    tech_two_lon = tech_two_loc[1]\n",
    "    \n",
    "    \n",
    "    row = {\n",
    "        'relminute': relminute,\n",
    "        'Tech_One_Lat': tech_one_lat, \n",
    "        'Tech_One_Lon': tech_one_lon, \n",
    "        'Tech_One_Bearing': tech_one_bearing, \n",
    "        'Tech_Two_Lat': tech_two_lat, \n",
    "        'Tech_Two_Lon': tech_two_lon, \n",
    "        'Tech_Two_Bearing': tech_two_bearing,\n",
    "        'Tech_Three_Lat': tech_three_lat, \n",
    "        'Tech_Three_Lon': tech_three_lon,  \n",
    "        'Tech_Three_Bearing': tech_three_bearing\n",
    "    }\n",
    "    \n",
    "    return row\n",
    "    "
   ]
  },
  {
   "cell_type": "code",
   "execution_count": 62,
   "metadata": {},
   "outputs": [],
   "source": [
    "for minute_data in data:\n",
    "    tech_location_data = tech_location_data.append(construct_location_row(minute_data), ignore_index=True)"
   ]
  },
  {
   "cell_type": "markdown",
   "metadata": {},
   "source": [
    "Basic scatterplot lat,long positions of each of the technicians. The times are not displayed, but the graph is meant to give a basic understanding of the shape of the movement of each technician."
   ]
  },
  {
   "cell_type": "code",
   "execution_count": 63,
   "metadata": {
    "scrolled": true
   },
   "outputs": [
    {
     "data": {
      "image/png": "[encoded data removed]",
      "text/plain": [
       "<Figure size 720x720 with 1 Axes>"
      ]
     },
     "metadata": {
      "needs_background": "light"
     },
     "output_type": "display_data"
    }
   ],
   "source": [
    "import matplotlib.pyplot as plt\n",
    "\n",
    "fig = plt.figure(figsize=(10, 10))\n",
    "ax1 = fig.add_subplot(111)\n",
    "\n",
    "ax1.scatter(tech_location_data['Tech_One_Lat'], tech_location_data['Tech_One_Lon'], s=20, c='b', marker=\"s\", label='Tech1')\n",
    "ax1.plot(tech_location_data['Tech_One_Lat'], tech_location_data['Tech_One_Lon'])\n",
    "\n",
    "ax1.scatter(tech_location_data['Tech_Two_Lat'], tech_location_data['Tech_Two_Lon'], s=20, c='r', marker=\"o\", label='Tech2')\n",
    "ax1.plot(tech_location_data['Tech_Two_Lat'], tech_location_data['Tech_Two_Lon'])\n",
    "\n",
    "ax1.scatter(tech_location_data['Tech_Three_Lat'], tech_location_data['Tech_Three_Lon'], s=20, c='g', marker=\"x\", label='Tech3')\n",
    "ax1.plot(tech_location_data['Tech_Three_Lat'], tech_location_data['Tech_Three_Lon'])\n",
    "\n",
    "plt.legend(loc='upper left');\n",
    "plt.title('Technician Movement')\n",
    "plt.xlabel('latitude')\n",
    "plt.ylabel('longitude')\n",
    "plt.show()"
   ]
  }
 ],
 "metadata": {
  "kernelspec": {
   "display_name": "Python 3",
   "language": "python",
   "name": "python3"
  },
  "language_info": {
   "codemirror_mode": {
    "name": "ipython",
    "version": 3
   },
   "file_extension": ".py",
   "mimetype": "text/x-python",
   "name": "python",
   "nbconvert_exporter": "python",
   "pygments_lexer": "ipython3",
   "version": "3.8.5"
  }
 },
 "nbformat": 4,
 "nbformat_minor": 4
}
